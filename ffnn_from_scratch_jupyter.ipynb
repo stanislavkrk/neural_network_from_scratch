{
 "cells": [
  {
   "metadata": {
    "ExecuteTime": {
     "end_time": "2025-02-20T18:48:20.216155Z",
     "start_time": "2025-02-20T18:48:20.106371Z"
    }
   },
   "cell_type": "code",
   "source": [
    "from src.data.letters_code import data_input\n",
    "from src.data.data_input_mod import (\n",
    "    letters_list,\n",
    "    letters_data,\n",
    "    generate_one_hot_encoding\n",
    ")\n",
    "\n",
    "from src.visualization.data_visualization import (\n",
    "    data_input_visualization_letters,\n",
    "    data_input_visualization\n",
    ")\n",
    "from src.model.new_NN import (\n",
    "    random_weights_and_bias,\n",
    "    NN_input_and_hidden_layer,\n",
    "    NN_output_layer,\n",
    "    softmax,\n",
    "    back_propagation,\n",
    "    update_weights,\n",
    "    sigmoid,\n",
    "    prediction,\n",
    "    cross_entropy_loss\n",
    ")\n",
    "\n",
    "import numpy as np\n",
    "import matplotlib.pyplot as plt"
   ],
   "id": "3548b09b92e6a729",
   "outputs": [],
   "execution_count": 8
  },
  {
   "metadata": {},
   "cell_type": "markdown",
   "source": [
    "# Building a Simple Neural Network from Scratch\n",
    "\n",
    "The goal of this project is to demonstrate, in the simplest and most accessible way possible,\n",
    "how to build a basic neural network **from scratch**, without using advanced machine learning frameworks\n",
    "like TensorFlow or PyTorch. Instead, we manually implement all the essential components, allowing a deeper\n",
    "understanding of how neural networks work under the hood.\n",
    "\n",
    "## Why Build a Neural Network from Scratch?\n",
    "\n",
    "Modern libraries provide powerful tools, but they often abstract away the core concepts. By implementing\n",
    "a neural network manually, we get to explore and understand:\n",
    "- **How neurons and layers interact** through matrix operations.\n",
    "- **How weights and biases are updated** using backpropagation.\n",
    "- **How the network learns** via gradient descent and loss minimization.\n",
    "\n",
    "## What Kind of Neural Network Are We Building?\n",
    "\n",
    "This project focuses on a **simple feedforward neural network**, also known as a **fully connected network**.\n",
    "Here's what this means:\n",
    "\n",
    "- **Feedforward Architecture:** The network consists of layers where information moves in a single direction, from input to output, without cycles or loops.\n",
    "- **Fully Connected Layers:** Every neuron in one layer is connected to every neuron in the next layer, allowing the network to learn complex patterns.\n",
    "- **Manual Implementation:** All key components such as activation functions, loss calculations, weight updates, and backpropagation are manually coded.\n",
    "\n",
    "---\n",
    "\n",
    "## Key Principles and Approach\n",
    "\n",
    "1. **Data Representation:**\n",
    "   <br>We use **binary vectors** to encode letters. Each letter is represented as a 5x6 grid of pixels, flattened into a 30-element vector.\n",
    "\n",
    "2. **Network Architecture:**\n",
    "   - **Input Layer:** 30 neurons (each representing one pixel in the binary vector).\n",
    "   - **Hidden Layer:** 15 neurons (arbitrarily chosen to balance learning capacity and simplicity).\n",
    "   - **Output Layer:** 11 neurons (each corresponding to a letter class, with Softmax activation for classification).\n",
    "\n",
    "   <br>\n",
    "\n",
    "3. **Learning Process:**\n",
    "   - **Forward Pass:** Input data passes through the network, generating predictions.\n",
    "   - **Loss Calculation:** Measures how far predictions are from true labels using **cross-entropy loss**.\n",
    "   - **Backpropagation:** Computes gradients for weight updates.\n",
    "   - **Gradient Descent:** Adjusts weights to minimize the loss, improving predictions over time.\n",
    "\n",
    "   <br>\n",
    "\n",
    "4. **Edge Cases:**\n",
    "   We also test how the network handles noisy or distorted input data, demonstrating its robustness and limitations.\n",
    "\n",
    "This project serves as a **learning tool**, showcasing the fundamental principles of neural networks without the complexity of external libraries.\n"
   ],
   "id": "e98c24140c3612ca"
  },
  {
   "metadata": {
    "ExecuteTime": {
     "end_time": "2025-02-20T18:48:20.505287Z",
     "start_time": "2025-02-20T18:48:20.234405Z"
    }
   },
   "cell_type": "code",
   "source": [
    "d = data_input()\n",
    "encoding = letters_data(d)\n",
    "data_input_visualization(encoding[3], encoding[5], encoding[0])"
   ],
   "id": "f75e982595160c49",
   "outputs": [
    {
     "data": {
      "text/plain": [
       "<Figure size 640x480 with 3 Axes>"
      ],
      "image/png": "[encoded data removed]"
     },
     "metadata": {},
     "output_type": "display_data"
    }
   ],
   "execution_count": 9
  },
  {
   "metadata": {},
   "cell_type": "markdown",
   "source": [
    "## Data Preparation and Initialization\n",
    "\n",
    "In next section, we prepare the input data and initialize the weights of our neural network:\n",
    "\n",
    "1. **Load the Data:**\n",
    "   The `data_input()` function loads a dictionary where the **keys** are letter names (e.g., 'a', 'b', 'c') and the **values** are the corresponding **image encodings** as binary vectors. Each letter is represented by a 30-element vector (flattened 5x6 grid).\n",
    "\n",
    "2. **Extracting Letter Names:**\n",
    "   Using `letters_list(data_input)`, we retrieve a **list of letter names**, which serves as our class labels for the classification task.\n",
    "\n",
    "3. **Convert to Feature Vectors:**\n",
    "   The function `letters_data(data_input)` converts the image encodings to a **list of binary vectors** that can be used as input to the neural network.\n",
    "\n",
    "4. **Generate One-Hot Encodings:**\n",
    "   The `generate_one_hot_encoding(letters_list)` function creates **one-hot encoded labels** for our classification problem. This is essential for comparing the model's output with the expected results during training.\n",
    "\n",
    "5. **Initialize Weights:**\n",
    "   - **Input-to-Hidden Layer Weights:**\n",
    "     The `random_weights_and_bias()` function is called to generate **random initial weights** and **biases** for the first layer of the neural network. These weights map **30 input features** to **15 hidden neurons**.\n",
    "   - **Hidden-to-Output Layer Weights:**\n",
    "     Another call to `random_weights_and_bias(x=15, y=11)` generates random weights and biases for the next layer. Here, **15 hidden neurons** are connected to **11 output neurons**, with each output neuron representing a specific letter class.\n",
    "\n",
    "By completing these steps, we prepare all the necessary components to start the **training process** for our neural network.\n"
   ],
   "id": "76e299c22b516b68"
  },
  {
   "metadata": {
    "ExecuteTime": {
     "end_time": "2025-02-20T18:48:20.624172Z",
     "start_time": "2025-02-20T18:48:20.601463Z"
    }
   },
   "cell_type": "code",
   "source": [
    "data_input = data_input()  # Load the dictionary where keys are letter names and values are their image encodings\n",
    "\n",
    "letters_list = letters_list(data_input)  # Retrieve the list of letter names\n",
    "\n",
    "x = letters_data(data_input)  # Retrieve the image encodings (binary vectors) as a list\n",
    "\n",
    "y_true = generate_one_hot_encoding(letters_list)  # Generate one-hot encodings for the letters' classes\n",
    "\n",
    "random = random_weights_and_bias()  # Generate random initial weights for the input-to-hidden layers\n",
    "w1 = random[0]\n",
    "b1 = random[1]\n",
    "\n",
    "random02 = random_weights_and_bias(x=15,\n",
    "                                        y=11)  # Generate random initial weights for the hidden-to-output layers\n",
    "w2 = random02[0]\n",
    "b2 = random02[1]"
   ],
   "id": "dfd5e080adea396",
   "outputs": [],
   "execution_count": 10
  },
  {
   "metadata": {},
   "cell_type": "markdown",
   "source": [
    "## Training the Neural Network with Loss Tracking\n",
    "\n",
    "In this section, we train our neural network using the **`training_with_loss`** function, which is an extended version of the original **`training`** function.\n",
    "\n",
    "### **What Does This Function Do?**\n",
    "1. **Forward Pass:**\n",
    "   Computes the activations for both the hidden and output layers using **sigmoid** and **softmax** functions.\n",
    "\n",
    "2. **Loss Calculation:**\n",
    "   At each epoch, the **cross-entropy loss** is calculated and stored in the **`loss_history`** list for later visualization.\n",
    "\n",
    "3. **Optional Output:**\n",
    "   Prints the **loss** every 100 epochs to give a sense of how well the model is converging.\n",
    "\n",
    "4. **Backpropagation:**\n",
    "   Computes gradients and updates weights using **gradient descent** with the specified **learning rate** (`lr`).\n",
    "\n",
    "5. **Return Values:**\n",
    "   Returns the **trained weights and biases** (`w1`, `b1`, `w2`, `b2`) as well as the **loss history** (`loss_history`).\n",
    "\n",
    "---\n",
    "\n",
    "### **Visualizing the Loss Curve**\n",
    "\n",
    "After training is complete, we visualize the **loss curve** over the epochs. This helps to:\n",
    "\n",
    "- Understand how quickly the model **converges**.\n",
    "- Identify if the model is **overfitting** or **underfitting**.\n",
    "- Spot potential issues like a **stagnant loss**, which might indicate problems with the learning rate or architecture.\n",
    "\n",
    "A **smooth, downward curve** indicates good training progress, while **oscillations** or a **flat line** might require further tuning of hyperparameters.\n"
   ],
   "id": "455e145a28e95c87"
  },
  {
   "metadata": {
    "ExecuteTime": {
     "end_time": "2025-02-20T18:48:21.093577Z",
     "start_time": "2025-02-20T18:48:20.708072Z"
    }
   },
   "cell_type": "code",
   "source": [
    "def training_with_loss(X, w1, b1, w2, b2, y_true, epochs=1000, lr=0.1):\n",
    "    \"\"\"\n",
    "    Identical to 'training', but also returns a list of losses for plotting.\n",
    "    \"\"\"\n",
    "    loss_history = []\n",
    "    for epoch in range(epochs):\n",
    "        # Forward pass\n",
    "        z1 = NN_input_and_hidden_layer(X, w1, b1)\n",
    "        a1 = sigmoid(z1)\n",
    "        z2 = NN_output_layer(a1, w2, b2)\n",
    "        a2 = softmax(z2)\n",
    "\n",
    "        # Calculate loss\n",
    "        loss = cross_entropy_loss(y_true, a2)\n",
    "        loss_history.append(loss)\n",
    "\n",
    "        # Optional: print loss every 100 epochs\n",
    "        if (epoch + 1) % 100 == 0:\n",
    "            print(f\"Epoch {epoch+1}/{epochs}, Loss: {loss:.4f}\")\n",
    "\n",
    "        # Backprop\n",
    "        dL_dw1, dL_dw2, dL_db1, dL_db2 = back_propagation(X, y_true, a1, a2, w2, b2, w1, b1)\n",
    "        w1, b1, w2, b2 = update_weights(w1, b1, w2, b2, dL_dw1, dL_db1, dL_dw2, dL_db2, lr)\n",
    "\n",
    "    return w1, b1, w2, b2, loss_history\n",
    "\n",
    "print(\"Starting training with loss tracking...\\n\")\n",
    "w1, b1, w2, b2, loss_history = training_with_loss(x, w1, b1, w2, b2, y_true, epochs=1000, lr=0.1)\n",
    "print(\"\\nTraining completed!\")\n",
    "\n",
    "plt.figure(figsize=(6,4))\n",
    "plt.plot(loss_history, label='Training Loss')\n",
    "plt.xlabel('Epoch')\n",
    "plt.ylabel('Loss')\n",
    "plt.title('Loss Curve Over Epochs')\n",
    "plt.legend()\n",
    "plt.show()"
   ],
   "id": "6f69ebfc1059ac85",
   "outputs": [
    {
     "name": "stdout",
     "output_type": "stream",
     "text": [
      "Starting training with loss tracking...\n",
      "\n",
      "Epoch 100/1000, Loss: 1.3879\n",
      "Epoch 200/1000, Loss: 0.3455\n",
      "Epoch 300/1000, Loss: 0.1044\n",
      "Epoch 400/1000, Loss: 0.0532\n",
      "Epoch 500/1000, Loss: 0.0340\n",
      "Epoch 600/1000, Loss: 0.0245\n",
      "Epoch 700/1000, Loss: 0.0189\n",
      "Epoch 800/1000, Loss: 0.0152\n",
      "Epoch 900/1000, Loss: 0.0127\n",
      "Epoch 1000/1000, Loss: 0.0109\n",
      "\n",
      "Training completed!\n"
     ]
    },
    {
     "data": {
      "text/plain": [
       "<Figure size 600x400 with 1 Axes>"
      ],
      "image/png": "[encoded data removed]"
     },
     "metadata": {},
     "output_type": "display_data"
    }
   ],
   "execution_count": 11
  },
  {
   "metadata": {},
   "cell_type": "markdown",
   "source": [
    "## Testing on clean data\n",
    "Select the index of the letter to check, for example, 5 (**this is 'F'** if the order is [L, H, M, O, G, ...])"
   ],
   "id": "a3531c7e4ba51320"
  },
  {
   "metadata": {
    "ExecuteTime": {
     "end_time": "2025-02-20T18:48:21.172700Z",
     "start_time": "2025-02-20T18:48:21.144254Z"
    }
   },
   "cell_type": "code",
   "source": [
    "test_index = 5\n",
    "print(f\"Testing letter at index {test_index} -> '{letters_list[test_index]}'\")\n",
    "\n",
    "predicted_idx = prediction(x[test_index], w1, b1, w2, b2, letters_list)\n",
    "print(f\"Predicted letter index: {predicted_idx}, which is '{letters_list[predicted_idx]}'\")"
   ],
   "id": "1c2aced60c0fdee2",
   "outputs": [
    {
     "name": "stdout",
     "output_type": "stream",
     "text": [
      "Testing letter at index 5 -> 'f'\n",
      "Class probabilities: [3.13973395e-06 2.78868309e-06 2.28583226e-04 9.37059682e-09\n",
      " 3.52678446e-06 9.85810429e-01 7.99362250e-03 2.71976040e-08\n",
      " 2.33929801e-05 1.06301423e-04 5.82817918e-03]\n",
      "Predicted class: 5\n",
      "Letter f\n",
      "Predicted letter index: 5, which is 'f'\n"
     ]
    }
   ],
   "execution_count": 12
  },
  {
   "metadata": {},
   "cell_type": "markdown",
   "source": [
    "## Visualize\n",
    "On the left is the **real letter**, on the right is **the predicted letter**"
   ],
   "id": "1bc1f8a56d390e2"
  },
  {
   "metadata": {
    "ExecuteTime": {
     "end_time": "2025-02-20T18:48:21.326276Z",
     "start_time": "2025-02-20T18:48:21.221873Z"
    }
   },
   "cell_type": "code",
   "source": "data_input_visualization_letters(x[test_index], x[predicted_idx])",
   "id": "154ac049d72092b",
   "outputs": [
    {
     "data": {
      "text/plain": [
       "<Figure size 640x480 with 2 Axes>"
      ],
      "image/png": "[encoded data removed]"
     },
     "metadata": {},
     "output_type": "display_data"
    }
   ],
   "execution_count": 13
  },
  {
   "metadata": {},
   "cell_type": "markdown",
   "source": [
    "## Edge Cases\n",
    "Adds **random noise** to a binary letter vector by **flipping bits**"
   ],
   "id": "66834e8703f5d61b"
  },
  {
   "metadata": {
    "ExecuteTime": {
     "end_time": "2025-02-20T18:50:04.716154Z",
     "start_time": "2025-02-20T18:50:04.597872Z"
    }
   },
   "cell_type": "code",
   "source": [
    "def add_noise_to_letter(letter_vector, noise_rate=0.2):\n",
    "    noisy_vector = letter_vector.copy()\n",
    "    random_vals = np.random.rand(len(noisy_vector))\n",
    "    flip_mask = random_vals < noise_rate\n",
    "    noisy_vector[flip_mask] = 1 - noisy_vector[flip_mask]\n",
    "    return noisy_vector\n",
    "\n",
    "test_index_noisy = 5\n",
    "original_letter = x[test_index_noisy]\n",
    "\n",
    "noisy_letter = add_noise_to_letter(original_letter, noise_rate=0.15)\n",
    "predicted_idx_noisy = prediction(noisy_letter, w1, b1, w2, b2, letters_list)\n",
    "\n",
    "print(f\"Original letter index: {test_index_noisy} -> '{letters_list[test_index_noisy]}'\")\n",
    "print(f\"Noisy predicted letter index: {predicted_idx_noisy}, which is '{letters_list[predicted_idx_noisy]}'\")\n",
    "\n",
    "data_input_visualization_letters(original_letter, noisy_letter)"
   ],
   "id": "eb99e2231179a87",
   "outputs": [
    {
     "name": "stdout",
     "output_type": "stream",
     "text": [
      "Class probabilities: [2.79325173e-04 7.96193744e-05 1.68691338e-03 2.50448841e-07\n",
      " 1.68701172e-04 9.50656509e-01 6.75902062e-03 5.44904237e-08\n",
      " 1.19194048e-05 2.01022406e-04 4.01566642e-02]\n",
      "Predicted class: 5\n",
      "Letter f\n",
      "Original letter index: 5 -> 'f'\n",
      "Noisy predicted letter index: 5, which is 'f'\n"
     ]
    },
    {
     "data": {
      "text/plain": [
       "<Figure size 640x480 with 2 Axes>"
      ],
      "image/png": "[encoded data removed]"
     },
     "metadata": {},
     "output_type": "display_data"
    }
   ],
   "execution_count": 15
  },
  {
   "metadata": {},
   "cell_type": "markdown",
   "source": [
    "## Analysis of the Noisy Edge Case\n",
    "\n",
    "1. **Noise Level**: We used a 15% bit-flip rate (`noise_rate=0.15`).\n",
    "   That means, on average, nearly one-sixth of the bits in the letter's vector were flipped.\n",
    "2. **Result**:\n",
    "   - If the predicted letter matches the original, the network is fairly robust to this level of noise.\n",
    "   - If the prediction differs, it highlights that our simple network can't fully compensate for heavy input corruption.\n",
    "3. **Possible Improvements**:\n",
    "   - Increase the hidden layer size or add more layers.\n",
    "   - Use a different activation (e.g., ReLU).\n",
    "   - Train on a larger dataset or include noisy samples in training.\n",
    "4. **Takeaways**:\n",
    "   - Even a straightforward neural network can handle some moderate noise.\n",
    "   - At higher noise levels, confusion increases, and classification can fail.\n",
    "\n",
    "This concludes our minimal demonstration of edge cases regarding noisy input.\n"
   ],
   "id": "ec7e8e2461b04c2c"
  },
  {
   "metadata": {},
   "cell_type": "markdown",
   "source": [
    "## **Diving Deeper into the Code**\n",
    "\n",
    "If you want to explore the detailed **raw code** of this neural network:\n",
    "- Check out the files of **modules** in the project:\n",
    "  - **/data** How binary vectors and one-hot encodings are generated.\n",
    "  - **/model** Step-by-step implementation of neural network layers, activation functions, and gradient descent.\n",
    "  - **/visualization** Tools to visualize input data and classification results.\n",
    "\n",
    "Each module is thoroughly documented with **detailed comments and annotations** to help you understand all the mathematical and computational processes involved."
   ],
   "id": "1bb655df3e3000ac"
  }
 ],
 "metadata": {
  "kernelspec": {
   "display_name": "Python 3",
   "language": "python",
   "name": "python3"
  },
  "language_info": {
   "codemirror_mode": {
    "name": "ipython",
    "version": 2
   },
   "file_extension": ".py",
   "mimetype": "text/x-python",
   "name": "python",
   "nbconvert_exporter": "python",
   "pygments_lexer": "ipython2",
   "version": "2.7.6"
  }
 },
 "nbformat": 4,
 "nbformat_minor": 5
}
